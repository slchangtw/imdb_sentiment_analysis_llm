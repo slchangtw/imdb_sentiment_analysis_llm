{
 "cells": [
  {
   "cell_type": "code",
   "execution_count": 36,
   "metadata": {},
   "outputs": [],
   "source": [
    "import sys\n",
    "\n",
    "from elasticsearch import Elasticsearch\n",
    "from sentence_transformers import SentenceTransformer\n",
    "import pandas as pd\n",
    "from tqdm import tqdm\n",
    "\n",
    "sys.path.append(\"..\")\n",
    "from src.config import settings\n",
    "\n",
    "tqdm.pandas()"
   ]
  },
  {
   "cell_type": "code",
   "execution_count": 74,
   "metadata": {},
   "outputs": [],
   "source": [
    "def get_correct_sentiment_rate(retrieved_docs: list, sentiment: str) -> float:\n",
    "    count_correct_sentiment = 0\n",
    "    for docs in retrieved_docs:\n",
    "        if docs[\"_source\"][\"sentiment\"] == sentiment:\n",
    "            count_correct_sentiment += 1\n",
    "    return count_correct_sentiment / len(retrieved_docs)\n",
    "\n",
    "\n",
    "def elastic_search_knn(\n",
    "    query: str, es_client: Elasticsearch, sentence_transformer: SentenceTransformer\n",
    ") -> dict:\n",
    "    vector = sentence_transformer.encode(query)\n",
    "    knn = {\n",
    "        \"field\": \"review_vector\",\n",
    "        \"query_vector\": vector,\n",
    "        \"k\": 5,\n",
    "        \"num_candidates\": 10000,\n",
    "    }\n",
    "    response = es_client.search(\n",
    "        index=settings.index_name,\n",
    "        body={\n",
    "            \"knn\": knn,\n",
    "            \"_source\": [\"review\", \"score\", \"sentiment\", \"id\"],\n",
    "        },\n",
    "    )\n",
    "\n",
    "    return response[\"hits\"][\"hits\"]\n",
    "\n",
    "\n",
    "def elastic_search_cosine_similarity(\n",
    "    query, es_client: Elasticsearch, sentence_transformer: SentenceTransformer\n",
    ") -> dict:\n",
    "    vector = sentence_transformer.encode(query)\n",
    "    response = es_client.search(\n",
    "        index=settings.index_name,\n",
    "        body={\n",
    "            \"query\": {\n",
    "                \"script_score\": {\n",
    "                    \"query\": {\"match_all\": {}},\n",
    "                    \"script\": {\n",
    "                        \"source\": \"cosineSimilarity(params.query_vector, 'review_vector') + 1.0\",\n",
    "                        \"params\": {\"query_vector\": vector},\n",
    "                    },\n",
    "                }\n",
    "            },\n",
    "            \"size\": 5,\n",
    "            \"_source\": [\"review\", \"score\", \"sentiment\", \"id\"],\n",
    "        },\n",
    "    )\n",
    "    return response[\"hits\"][\"hits\"]\n",
    "\n",
    "\n",
    "def elastic_search_query(query: str, es_client: Elasticsearch) -> dict:\n",
    "    response = es_client.search(\n",
    "        index=settings.index_name,\n",
    "        body={\n",
    "            \"query\": {\n",
    "                \"bool\": {\n",
    "                    \"must\": {\n",
    "                        \"multi_match\": {\n",
    "                            \"query\": query,\n",
    "                            \"fields\": [\"review\"],\n",
    "                            \"type\": \"best_fields\",\n",
    "                        }\n",
    "                    }\n",
    "                }\n",
    "            },\n",
    "            \"size\": 5,\n",
    "            \"_source\": [\"review\", \"score\", \"sentiment\", \"id\"],\n",
    "        },\n",
    "    )\n",
    "    return response[\"hits\"][\"hits\"]"
   ]
  },
  {
   "cell_type": "code",
   "execution_count": 5,
   "metadata": {},
   "outputs": [
    {
     "name": "stderr",
     "output_type": "stream",
     "text": [
      "/Users/shun_lung_chang/python_projects/imdb_sentiment_analysis_llm/.venv/lib/python3.11/site-packages/transformers/tokenization_utils_base.py:1601: FutureWarning: `clean_up_tokenization_spaces` was not set. It will be set to `True` by default. This behavior will be depracted in transformers v4.45, and will be then set to `False` by default. For more details check this issue: https://github.com/huggingface/transformers/issues/31884\n",
      "  warnings.warn(\n"
     ]
    }
   ],
   "source": [
    "es_client = Elasticsearch([\"http://localhost:9200\"])\n",
    "sentence_transformer = SentenceTransformer(settings.sentence_transformer_model)"
   ]
  },
  {
   "cell_type": "code",
   "execution_count": 44,
   "metadata": {},
   "outputs": [
    {
     "data": {
      "text/plain": [
       "1.0"
      ]
     },
     "execution_count": 44,
     "metadata": {},
     "output_type": "execute_result"
    }
   ],
   "source": [
    "query = \"I love this movie!\"\n",
    "\n",
    "results = elastic_search_knn(query, es_client, sentence_transformer)\n",
    "get_correct_sentiment_rate(results, \"positive\")"
   ]
  },
  {
   "cell_type": "code",
   "execution_count": 30,
   "metadata": {},
   "outputs": [],
   "source": [
    "reviews_eval = pd.read_csv(\"../data/valid.csv\")"
   ]
  },
  {
   "cell_type": "code",
   "execution_count": 45,
   "metadata": {},
   "outputs": [
    {
     "name": "stderr",
     "output_type": "stream",
     "text": [
      "100%|██████████| 2500/2500 [02:01<00:00, 20.64it/s]\n"
     ]
    }
   ],
   "source": [
    "reviews_eval[\"correct_sentiment_rate\"] = reviews_eval.progress_apply(\n",
    "    lambda x: get_correct_sentiment_rate(\n",
    "        elastic_search_knn(x[\"review\"], es_client, sentence_transformer), x[\"sentiment\"]\n",
    "    ),\n",
    "    axis=1,\n",
    ")\n",
    "reviews_eval[\"correct_sentiment_rate\"].mean()"
   ]
  },
  {
   "cell_type": "code",
   "execution_count": null,
   "metadata": {},
   "outputs": [],
   "source": []
  }
 ],
 "metadata": {
  "kernelspec": {
   "display_name": ".venv",
   "language": "python",
   "name": "python3"
  },
  "language_info": {
   "codemirror_mode": {
    "name": "ipython",
    "version": 3
   },
   "file_extension": ".py",
   "mimetype": "text/x-python",
   "name": "python",
   "nbconvert_exporter": "python",
   "pygments_lexer": "ipython3",
   "version": "3.11.5"
  }
 },
 "nbformat": 4,
 "nbformat_minor": 2
}
